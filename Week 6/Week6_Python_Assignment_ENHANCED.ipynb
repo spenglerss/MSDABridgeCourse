{
 "metadata": {
  "name": "",
  "signature": "sha256:c083944b6a962b49259c7728bfd561af1c8c41fe302056e3009711572fde1e69"
 },
 "nbformat": 3,
 "nbformat_minor": 0,
 "worksheets": [
  {
   "cells": [
    {
     "cell_type": "heading",
     "level": 2,
     "metadata": {},
     "source": [
      "Sandesh Sadalge\n",
      "Week 6 Python Assignment ENHANCED to handle unknown any number of results:"
     ]
    },
    {
     "cell_type": "code",
     "collapsed": false,
     "input": [
      "\"\"\"\n",
      "@author: SSadalge\n",
      "\n",
      "Week 6 Python Assignment - ENHANCED.\n",
      "\n",
      "\"\"\"\n",
      "import re\n",
      "\n",
      "# You can change this string as you like for testing:\n",
      "theString = '2 United States | W 4 | T 3 | L 1 | L 5 | W 3 | T 2'\n",
      "\n",
      "''' The following regular expression assigns the following:\n",
      "matches.group(1) = Rank\n",
      "matches.group (2) = Country\n",
      "matches.group(3) is the string of all results.  Basically everything from the first '|' to EOL.\n",
      "'''\n",
      "matches = re.search('(^[0-9]+) +([a-zA-Z ]+)\\|(.*)',theString)\n",
      "\n",
      "if matches:\n",
      "    print \"Rank: \",matches.group(1)\n",
      "    print \"Country: \",matches.group(2)\n",
      "    resultsList = matches.group(3).strip().split('|') # Making a list based on all the results. matches.group(3) contains everything from the first '|' to the EOL\n",
      "    print \"Results:\"    \n",
      "    for result in resultsList: # Going through all the resutls and printing them\n",
      "        print result.strip()\n",
      "else:\n",
      "    print \"String not in anticipated format\"  # Print this if the regular expression fails to match something."
     ],
     "language": "python",
     "metadata": {},
     "outputs": [
      {
       "output_type": "stream",
       "stream": "stdout",
       "text": [
        "Rank:  2\n",
        "Country:  United States \n",
        "Results:\n",
        "W 4\n",
        "T 3\n",
        "L 1\n",
        "L 5\n",
        "W 3\n",
        "T 2\n"
       ]
      }
     ],
     "prompt_number": 1
    }
   ],
   "metadata": {}
  }
 ]
}