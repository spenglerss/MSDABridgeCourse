{
 "metadata": {
  "name": "",
  "signature": "sha256:af2a0299e1efbadff43e73b2030855d9c937083eaf71143911ecc48f1a0250f0"
 },
 "nbformat": 3,
 "nbformat_minor": 0,
 "worksheets": [
  {
   "cells": [
    {
     "cell_type": "heading",
     "level": 2,
     "metadata": {},
     "source": [
      "Sandesh Sadalge\n",
      "Week 6 Python Assignment"
     ]
    },
    {
     "cell_type": "code",
     "collapsed": false,
     "input": [
      "\"\"\"\n",
      "Week 6 Python Assignment.\n",
      "**\n",
      "PLEASE NOTE: I put the 4 lines in a txt file called Week_6_Python_data.txt\n",
      "**\n",
      "The file looks like this:\n",
      "1 Germany  | W 3 | T 4 | W 2\n",
      "2 United States | W 4 | T 3 | L 1\n",
      "3 Portugal | L 1 | T 2 | W 4\n",
      "4 Ghana | L 2 | T 1 | L 3\n",
      "\"\"\"\n",
      "\n",
      "import re\n",
      "\n",
      "fhand = open('C:\\Users\\ssadalge\\Documents\\GitHub\\MSDABridgeCourse\\Week 6\\Week_6_Python_data.txt')\n",
      "\n",
      "for line in fhand:\n",
      "   \n",
      "    match = re.search('(^[0-9]+) +([a-zA-Z ]+)\\| ([WLT]+ [0-9 ]+)\\| ([WLT]+ [0-9 ]+)\\| ([WLT]+ [0-9 ]+)',line)\n",
      "\n",
      "    if match:\n",
      "        print \"Rank: \",match.group(1)\n",
      "        print \"Country: \",match.group(2)\n",
      "        print \"Results:\"\n",
      "        print match.group(3)\n",
      "        print match.group(4)\n",
      "        print match.group(5)\n",
      "        print \"\" # This is just for display spacing\n",
      "    else:\n",
      "        print \"No Match\""
     ],
     "language": "python",
     "metadata": {},
     "outputs": [
      {
       "output_type": "stream",
       "stream": "stdout",
       "text": [
        "Rank:  1\n",
        "Country:  Germany  \n",
        "Results:\n",
        "W 3 \n",
        "T 4 \n",
        "W 2\n",
        "\n",
        "Rank:  2\n",
        "Country:  United States \n",
        "Results:\n",
        "W 4 \n",
        "T 3 \n",
        "L 1\n",
        "\n",
        "Rank:  3\n",
        "Country:  Portugal \n",
        "Results:\n",
        "L 1 \n",
        "T 2 \n",
        "W 4\n",
        "\n",
        "Rank:  4\n",
        "Country:  Ghana \n",
        "Results:\n",
        "L 2 \n",
        "T 1 \n",
        "L 3\n",
        "\n"
       ]
      }
     ],
     "prompt_number": 3
    }
   ],
   "metadata": {}
  }
 ]
}